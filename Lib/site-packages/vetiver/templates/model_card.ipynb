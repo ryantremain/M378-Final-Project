{
  "cells": [
    {
      "cell_type": "raw",
      "metadata": {},
      "source": [
        "---\n",
        "title: \"Model Card: your model title\"\n",
        "output:\n",
        "  html_document\n",
        "---"
      ],
      "id": "a5ecbe9a"
    },
    {
      "cell_type": "code",
      "metadata": {},
      "source": [
        "#| echo: false\n",
        "from IPython.display import display, Markdown\n",
        "import datetime\n",
        "display(Markdown(f\"\"\"\n",
        "###### {datetime.date.today()}\n",
        "\"\"\"))"
      ],
      "id": "b1968ab6",
      "execution_count": null,
      "outputs": []
    },
    {
      "cell_type": "code",
      "metadata": {
        "tags": [
          "parameters"
        ]
      },
      "source": [
        "#| include: false\n",
        "import pins\n",
        "\n",
        "raw = \"https://colorado.rstudio.com/rsc/\"\n",
        "paths = {\"v\": \"sacramento/\"}\n",
        "board = pins.board_urls(raw, paths, allow_pickle_read=True)"
      ],
      "id": "99b76744",
      "execution_count": null,
      "outputs": []
    },
    {
      "cell_type": "code",
      "metadata": {},
      "source": [
        "#| include: false\n",
        "import datetime\n",
        "import pandas as pd\n",
        "import plotly.express as px\n",
        "from sklearn import metrics\n",
        "import vetiver\n",
        "\n",
        "v = vetiver.VetiverModel.from_pin(board, \"v\")\n",
        "# your pin will most likely have a version already, but we will make one here\n",
        "v_meta = board.pin_meta(\"v\")\n",
        "v_meta.version = '5678'"
      ],
      "id": "d701ed81",
      "execution_count": null,
      "outputs": []
    },
    {
      "cell_type": "markdown",
      "metadata": {},
      "source": [
        "A [model card](https://doi.org/10.1145/3287560.3287596) provides brief, transparent, responsible reporting for a trained machine learning model.\n",
        "\n",
        "## Model details\n",
        "\n",
        "- Developed by PERSON AND/OR TEAM"
      ],
      "id": "d3da7f79"
    },
    {
      "cell_type": "code",
      "metadata": {},
      "source": [
        "#| echo: false\n",
        "model_desc = v.description\n",
        "num_features = len(v.prototype.construct().dict())\n",
        "\n",
        "display(Markdown(f\"\"\"\n",
        "- A {model_desc} using {num_features} feature{'s'[:num_features^1]}.\n",
        "\"\"\"))"
      ],
      "id": "d280c946",
      "execution_count": null,
      "outputs": []
    },
    {
      "cell_type": "markdown",
      "metadata": {},
      "source": [
        "- More details about how model was developed and what it is predicting\n",
        "- More details on feature engineering and/or data preprocessing for model"
      ],
      "id": "7cdb4bef"
    },
    {
      "cell_type": "code",
      "metadata": {},
      "source": [
        "#| echo: false\n",
        "version = v_meta.version\n",
        "time_created =  datetime.datetime\n",
        "    .strptime(v_meta.created, '%Y%m%dT%H%M%SZ')\n",
        "    .strftime('%Y-%m-%d %H:%M:%S')\n",
        "\n",
        "display(Markdown(f\"\"\"\n",
        "- Version {version} was created at {time_created}\n",
        "\"\"\"))"
      ],
      "id": "2d0ad48d",
      "execution_count": null,
      "outputs": []
    },
    {
      "cell_type": "markdown",
      "metadata": {},
      "source": [
        "- Citation and/or license details for the model\n",
        "- If you have questions about this model, please contact PERSON@ORG.ORG\n",
        "\n",
        "## Intended use\n",
        "\n",
        "- The primary intended uses of this model are ...\n",
        "- The primary intended users of this model are ...\n",
        "- Some use cases are out of scope for this model, such as ...\n",
        "\n",
        "## Important aspects/factors\n",
        "\n",
        "- Aspects or factors (demographic, environmental, technical) that are relevant to the context of this model are ...\n",
        "- In evaluating this model, we examined aspects such as ...\n",
        "\n",
        "## Metrics\n",
        "\n",
        "- The metrics used to evaluate this model are ...\n",
        "- These metrics are computed via ...\n",
        "- We chose these metrics because ...\n",
        "\n",
        "## Training data & evaluation data\n",
        "\n",
        "- The training dataset for this model was ...\n",
        "- The training dataset for this model has the \"prototype\" or signature:"
      ],
      "id": "f375198d"
    },
    {
      "cell_type": "code",
      "metadata": {},
      "source": [
        "#| echo: false\n",
        "v.prototype.construct().schema().get(\"properties\")"
      ],
      "id": "1d29f499",
      "execution_count": null,
      "outputs": []
    },
    {
      "cell_type": "markdown",
      "metadata": {},
      "source": [
        "- The evaluation dataset used in this model card is ...\n",
        "- We chose this evaluation data because ...\n",
        "\n",
        "\n",
        "## Quantitative analyses\n",
        ":::{.panel-tabset}"
      ],
      "id": "15504e6e"
    },
    {
      "cell_type": "code",
      "metadata": {},
      "source": [
        "#| include: false\n",
        "## consider using a package like Pandas Profiling for automated EDA"
      ],
      "id": "3618dd4d",
      "execution_count": null,
      "outputs": []
    },
    {
      "cell_type": "markdown",
      "metadata": {},
      "source": [
        "## Overall model performance\n"
      ],
      "id": "89572294"
    },
    {
      "cell_type": "code",
      "metadata": {},
      "source": [
        "#| echo: false\n",
        "## compute predictions for your evaluation data\n",
        "from vetiver.data import sacramento\n",
        "\n",
        "sacramento[\"preds\"] = v.model.predict(sacramento.drop(columns=[\"price\"]))\n",
        "metric_set = [metrics.mean_absolute_error, metrics.mean_squared_error, metrics.r2_score]\n",
        "\n",
        "for metric in metric_set:\n",
        "    print(metric.__qualname__, \": \", metric(y_pred=sacramento[\"preds\"], y_true=sacramento[\"price\"]))"
      ],
      "id": "ca695eb1",
      "execution_count": null,
      "outputs": []
    },
    {
      "cell_type": "markdown",
      "metadata": {},
      "source": [
        "## Disaggregated model performance\n"
      ],
      "id": "2fc0079b"
    },
    {
      "cell_type": "code",
      "metadata": {},
      "source": [
        "#| echo: false\n",
        "\n",
        "dmp = pd.DataFrame()\n",
        "for metric in metric_set:\n",
        "    dmp[metric.__qualname__] = sacramento.groupby(\"type\")\\\n",
        "        .apply(lambda x: metric(y_pred=x[\"preds\"], y_true=x[\"price\"]))\n",
        "dmp"
      ],
      "id": "9c1aafd6",
      "execution_count": null,
      "outputs": []
    },
    {
      "cell_type": "markdown",
      "metadata": {},
      "source": [
        "## Visualize model performance\n"
      ],
      "id": "4b9687d6"
    },
    {
      "cell_type": "code",
      "metadata": {},
      "source": [
        "performance = px.scatter(sacramento, x=\"price\", y = \"preds\", facet_row=\"type\", trendline=\"ols\")\n",
        "performance.update_yaxes(matches=None)\n",
        "performance.show()"
      ],
      "id": "2126b443",
      "execution_count": null,
      "outputs": []
    },
    {
      "cell_type": "markdown",
      "metadata": {},
      "source": [
        "## Make a custom plot\n"
      ],
      "id": "b16b30df"
    },
    {
      "cell_type": "code",
      "metadata": {},
      "source": [
        "custom = px.violin(sacramento, x=\"beds\", y = \"price\")\n",
        "custom.show()"
      ],
      "id": "4f56058f",
      "execution_count": null,
      "outputs": []
    },
    {
      "cell_type": "markdown",
      "metadata": {},
      "source": [
        ":::\n",
        "\n",
        "## Ethical considerations\n",
        "\n",
        "- We considered ...\n",
        "\n",
        "## Caveats & recommendations\n",
        "\n",
        "- This model does ...\n",
        "- This model does not ...\n",
        "- We recommend ..."
      ],
      "id": "d7501b3e"
    }
  ],
  "metadata": {
    "kernelspec": {
      "display_name": "Python 3",
      "language": "python",
      "name": "python3"
    }
  },
  "nbformat": 4,
  "nbformat_minor": 5
}