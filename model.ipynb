{
  "cells": [
    {
      "cell_type": "raw",
      "metadata": {},
      "source": [
        "---\n",
        "title: \"Model\"\n",
        "format:\n",
        "  html:\n",
        "    code-fold: true\n",
        "---"
      ],
      "id": "1929a7d6"
    },
    {
      "cell_type": "code",
      "metadata": {},
      "source": [
        "from palmerpenguins import penguins\n",
        "from pandas import get_dummies\n",
        "import numpy as np\n",
        "from sklearn.linear_model import LinearRegression\n",
        "from sklearn import preprocessing"
      ],
      "id": "326c657e",
      "execution_count": null,
      "outputs": []
    },
    {
      "cell_type": "markdown",
      "metadata": {},
      "source": [
        "## Get Data\n"
      ],
      "id": "7689639b"
    },
    {
      "cell_type": "code",
      "metadata": {},
      "source": [
        "df = penguins.load_penguins().dropna()\n",
        "\n",
        "df.head(3)"
      ],
      "id": "27d96e22",
      "execution_count": null,
      "outputs": []
    },
    {
      "cell_type": "markdown",
      "metadata": {},
      "source": [
        "## Define Model and Fit\n"
      ],
      "id": "e8feca2e"
    },
    {
      "cell_type": "code",
      "metadata": {},
      "source": [
        "X = get_dummies(df[['bill_length_mm', 'species', 'sex']], drop_first = True)\n",
        "y = df['body_mass_g']\n",
        "\n",
        "model = LinearRegression().fit(X, y)"
      ],
      "id": "b220e02d",
      "execution_count": null,
      "outputs": []
    },
    {
      "cell_type": "markdown",
      "metadata": {},
      "source": [
        "## Get some information\n"
      ],
      "id": "39e874f8"
    },
    {
      "cell_type": "code",
      "metadata": {},
      "source": [
        "print(f\"R^2 {model.score(X,y)}\")\n",
        "print(f\"Intercept {model.intercept_}\")\n",
        "print(f\"Columns {X.columns}\")\n",
        "print(f\"Coefficients {model.coef_}\")"
      ],
      "id": "120ebbd8",
      "execution_count": null,
      "outputs": []
    }
  ],
  "metadata": {
    "kernelspec": {
      "display_name": "Python 3",
      "language": "python",
      "name": "python3"
    }
  },
  "nbformat": 4,
  "nbformat_minor": 5
}